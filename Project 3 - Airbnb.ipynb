{
 "cells": [
  {
   "cell_type": "markdown",
   "metadata": {},
   "source": [
    "# Project 3: Airbnb\n",
    "**This is the third of three mandatory projects to be handed in as part of the assessment for the course 02807 Computational Tools for Data Science at Technical University of Denmark, autumn 2019.**\n",
    "\n",
    "#### Practical info\n",
    "- **The project is to be done in groups of at most 3 students**\n",
    "- **Each group has to hand in _one_ Jupyter notebook (this notebook) with their solution**\n",
    "- **The hand-in of the notebook is due 2019-12-05, 23:59 on DTU Inside**\n",
    "\n",
    "#### Your solution\n",
    "- **Your solution should be in Python/PySpark**\n",
    "- **For each question you may use as many cells for your solution as you like**\n",
    "- **You should not remove the problem statements**\n",
    "- **Your notebook should be runnable, i.e., clicking [>>] in Jupyter should generate the result that you want to be assessed**\n",
    "- **You are not expected to use machine learning to solve any of the exercises**"
   ]
  },
  {
   "cell_type": "markdown",
   "metadata": {},
   "source": [
    "# Introduction\n",
    "[Airbnb](http://airbnb.com) is an online marketplace for arranging or offering lodgings. In this project you will use Spark to analyze data obtained from the Airbnb website. The purpose of the analysis is to extract information about trends and patterns from the data.\n",
    "\n",
    "The project has two parts.\n",
    "\n",
    "### Part 1: Loading, describing and preparing the data\n",
    "There's quite a lot of data. Make sure that you can load and correctly parse the data, and that you understand what the dataset contains. You should also prepare the data for the analysis in part two. This means cleaning it and staging it so that subsequent queries are fast.\n",
    "\n",
    "### Par 2: Analysis\n",
    "In this part your goal is to learn about trends and usage patterns from the data. You should give solutions to the tasks defined in this notebook, and you should use Spark to do the data processing. You may use other libraries like for instance Pandas and matplotlib for visualisation.\n",
    "\n",
    "## Guidelines\n",
    "- Processing data should be done using Spark. Once data has been reduced to aggregate form, you may use collect to extract it into Python for visualisation.\n",
    "- Your solutions will be evaluated by correctness, code quality and interpretability of the output. This means that you have to write clean and efficient Spark code that will generate sensible execution plans, and that the tables and visualisations that you produce are meaningful and easy to read.\n",
    "- You may add more cells for your solutions, but you should not modify the notebook otherwise."
   ]
  },
  {
   "cell_type": "markdown",
   "metadata": {},
   "source": [
    "### Create Spark session and define imports"
   ]
  },
  {
   "cell_type": "markdown",
   "metadata": {},
   "source": [
    "No need to manipulate data - simply remove odd rows.\n",
    "Focus is on using spark.\n",
    "\n",
    "Reviews is open, the rest should be considered as excersises. \n"
   ]
  },
  {
   "cell_type": "code",
   "execution_count": 1,
   "metadata": {},
   "outputs": [],
   "source": [
    "from pyspark.sql import *\n",
    "from pyspark.sql import functions as f\n",
    "from pyspark.sql.types import *\n",
    "\n",
    "spark = SparkSession.builder.appName(\"SparkIntro\").getOrCreate()"
   ]
  },
  {
   "cell_type": "code",
   "execution_count": 2,
   "metadata": {},
   "outputs": [],
   "source": [
    "import matplotlib.pyplot as plt\n",
    "import pandas as pd\n",
    "import string"
   ]
  },
  {
   "cell_type": "markdown",
   "metadata": {},
   "source": [
    "# Part 1: Loading, describing and preparing the data\n",
    "The data comes in two files. Start by downloading the files and putting them in your `data/` folder.\n",
    "\n",
    "- [Listings](https://files.dtu.dk/u/siPzAasj8w2gI_ME/listings.csv?l) (5 GB)\n",
    "- [Reviews](https://files.dtu.dk/u/k3oaPYp6GjKBeho4/reviews.csv?l) (9.5 GB)"
   ]
  },
  {
   "cell_type": "markdown",
   "metadata": {},
   "source": [
    "### Load the data\n",
    "The data has multiline rows (rows that span multiple lines in the file). To correctly parse these you should use the `multiline` option and set the `escape` character to be `\"`."
   ]
  },
  {
   "cell_type": "code",
   "execution_count": 3,
   "metadata": {},
   "outputs": [],
   "source": [
    "df_listings = spark.read.option('header', True)\\\n",
    "                   .option('inferSchema', True)\\\n",
    "                   .option(\"multiLine\", True)\\\n",
    "                   .option('escape', '\"').csv('data/listings.csv')\n",
    "df_reviews = spark.read.option('header', True)\\\n",
    "                   .option('inferSchema', True)\\\n",
    "                   .option(\"multiLine\", True)\\\n",
    "                   .option('escape', '\"').csv('data/reviews.csv')"
   ]
  },
  {
   "cell_type": "markdown",
   "metadata": {},
   "source": [
    "### Describe the data\n",
    "List the features (schema) and sizes of the datasets."
   ]
  },
  {
   "cell_type": "code",
   "execution_count": 4,
   "metadata": {},
   "outputs": [
    {
     "name": "stdout",
     "output_type": "stream",
     "text": [
      "root\n",
      " |-- id: string (nullable = true)\n",
      " |-- listing_url: string (nullable = true)\n",
      " |-- scrape_id: string (nullable = true)\n",
      " |-- last_scraped: string (nullable = true)\n",
      " |-- name: string (nullable = true)\n",
      " |-- summary: string (nullable = true)\n",
      " |-- space: string (nullable = true)\n",
      " |-- description: string (nullable = true)\n",
      " |-- experiences_offered: string (nullable = true)\n",
      " |-- neighborhood_overview: string (nullable = true)\n",
      " |-- notes: string (nullable = true)\n",
      " |-- transit: string (nullable = true)\n",
      " |-- access: string (nullable = true)\n",
      " |-- interaction: string (nullable = true)\n",
      " |-- house_rules: string (nullable = true)\n",
      " |-- thumbnail_url: string (nullable = true)\n",
      " |-- medium_url: string (nullable = true)\n",
      " |-- picture_url: string (nullable = true)\n",
      " |-- xl_picture_url: string (nullable = true)\n",
      " |-- host_id: string (nullable = true)\n",
      " |-- host_url: string (nullable = true)\n",
      " |-- host_name: string (nullable = true)\n",
      " |-- host_since: string (nullable = true)\n",
      " |-- host_location: string (nullable = true)\n",
      " |-- host_about: string (nullable = true)\n",
      " |-- host_response_time: string (nullable = true)\n",
      " |-- host_response_rate: string (nullable = true)\n",
      " |-- host_acceptance_rate: string (nullable = true)\n",
      " |-- host_is_superhost: string (nullable = true)\n",
      " |-- host_thumbnail_url: string (nullable = true)\n",
      " |-- host_picture_url: string (nullable = true)\n",
      " |-- host_neighbourhood: string (nullable = true)\n",
      " |-- host_listings_count: string (nullable = true)\n",
      " |-- host_total_listings_count: string (nullable = true)\n",
      " |-- host_verifications: string (nullable = true)\n",
      " |-- host_has_profile_pic: string (nullable = true)\n",
      " |-- host_identity_verified: string (nullable = true)\n",
      " |-- street: string (nullable = true)\n",
      " |-- neighbourhood: string (nullable = true)\n",
      " |-- neighbourhood_cleansed: string (nullable = true)\n",
      " |-- neighbourhood_group_cleansed: string (nullable = true)\n",
      " |-- city: string (nullable = true)\n",
      " |-- state: string (nullable = true)\n",
      " |-- zipcode: string (nullable = true)\n",
      " |-- market: string (nullable = true)\n",
      " |-- smart_location: string (nullable = true)\n",
      " |-- country_code: string (nullable = true)\n",
      " |-- country: string (nullable = true)\n",
      " |-- latitude: string (nullable = true)\n",
      " |-- longitude: string (nullable = true)\n",
      " |-- is_location_exact: string (nullable = true)\n",
      " |-- property_type: string (nullable = true)\n",
      " |-- room_type: string (nullable = true)\n",
      " |-- accommodates: string (nullable = true)\n",
      " |-- bathrooms: string (nullable = true)\n",
      " |-- bedrooms: string (nullable = true)\n",
      " |-- beds: string (nullable = true)\n",
      " |-- bed_type: string (nullable = true)\n",
      " |-- amenities: string (nullable = true)\n",
      " |-- square_feet: string (nullable = true)\n",
      " |-- price: string (nullable = true)\n",
      " |-- weekly_price: string (nullable = true)\n",
      " |-- monthly_price: string (nullable = true)\n",
      " |-- security_deposit: string (nullable = true)\n",
      " |-- cleaning_fee: string (nullable = true)\n",
      " |-- guests_included: string (nullable = true)\n",
      " |-- extra_people: string (nullable = true)\n",
      " |-- minimum_nights: string (nullable = true)\n",
      " |-- maximum_nights: string (nullable = true)\n",
      " |-- minimum_minimum_nights: string (nullable = true)\n",
      " |-- maximum_minimum_nights: string (nullable = true)\n",
      " |-- minimum_maximum_nights: string (nullable = true)\n",
      " |-- maximum_maximum_nights: string (nullable = true)\n",
      " |-- minimum_nights_avg_ntm: string (nullable = true)\n",
      " |-- maximum_nights_avg_ntm: string (nullable = true)\n",
      " |-- calendar_updated: string (nullable = true)\n",
      " |-- has_availability: string (nullable = true)\n",
      " |-- availability_30: string (nullable = true)\n",
      " |-- availability_60: string (nullable = true)\n",
      " |-- availability_90: string (nullable = true)\n",
      " |-- availability_365: string (nullable = true)\n",
      " |-- calendar_last_scraped: string (nullable = true)\n",
      " |-- number_of_reviews: string (nullable = true)\n",
      " |-- number_of_reviews_ltm: string (nullable = true)\n",
      " |-- first_review: string (nullable = true)\n",
      " |-- last_review: string (nullable = true)\n",
      " |-- review_scores_rating: string (nullable = true)\n",
      " |-- review_scores_accuracy: string (nullable = true)\n",
      " |-- review_scores_cleanliness: string (nullable = true)\n",
      " |-- review_scores_checkin: string (nullable = true)\n",
      " |-- review_scores_communication: string (nullable = true)\n",
      " |-- review_scores_location: string (nullable = true)\n",
      " |-- review_scores_value: string (nullable = true)\n",
      " |-- requires_license: string (nullable = true)\n",
      " |-- license: string (nullable = true)\n",
      " |-- jurisdiction_names: string (nullable = true)\n",
      " |-- instant_bookable: string (nullable = true)\n",
      " |-- is_business_travel_ready: string (nullable = true)\n",
      " |-- cancellation_policy: string (nullable = true)\n",
      " |-- require_guest_profile_picture: string (nullable = true)\n",
      " |-- require_guest_phone_verification: string (nullable = true)\n",
      " |-- calculated_host_listings_count: string (nullable = true)\n",
      " |-- calculated_host_listings_count_entire_homes: string (nullable = true)\n",
      " |-- calculated_host_listings_count_private_rooms: string (nullable = true)\n",
      " |-- calculated_host_listings_count_shared_rooms: string (nullable = true)\n",
      " |-- reviews_per_month: string (nullable = true)\n",
      "\n",
      "root\n",
      " |-- listing_id: string (nullable = true)\n",
      " |-- id: string (nullable = true)\n",
      " |-- date: string (nullable = true)\n",
      " |-- reviewer_id: string (nullable = true)\n",
      " |-- reviewer_name: string (nullable = true)\n",
      " |-- comments: string (nullable = true)\n",
      "\n"
     ]
    }
   ],
   "source": [
    "# The Schemas are printed for both datasets.\n",
    "df_listings.printSchema()\n",
    "df_reviews.printSchema()"
   ]
  },
  {
   "cell_type": "markdown",
   "metadata": {},
   "source": [
    "The listings.csv dataset is a collection of listings from AirBnB and all associated data stored in a csv-format.\n",
    "The reviews.csv dataset are reviews of the various listings in AirBnb. In this dataset the column 'listing_id' can be used to link to the listing in listings.csv."
   ]
  },
  {
   "cell_type": "code",
   "execution_count": 5,
   "metadata": {},
   "outputs": [
    {
     "name": "stdout",
     "output_type": "stream",
     "text": [
      "Listings count: 1330480\n",
      "Reviews count: 32297300\n"
     ]
    }
   ],
   "source": [
    "# We run a count function to determine the length of both datasets:\n",
    "print('Listings count:', df_listings.count())\n",
    "print('Reviews count:',df_reviews.count())"
   ]
  },
  {
   "cell_type": "markdown",
   "metadata": {},
   "source": [
    "### Prepare the data for analysis\n",
    "You should prepare two dataframes to be used in the analysis part of the project. You should not be concerned with cleaning the data. There's a lot of it, so it will be sufficient to drop rows that have bad values. You may want to go back and refine this step at a later point when doing the analysis.\n",
    "\n",
    "You may also want to consider if you can stage your data so that subsequent processing is more efficient (this is not strictly necessary for Spark to run, but you may be able to decrease the time you sit around waiting for Spark to finish things)"
   ]
  },
  {
   "cell_type": "markdown",
   "metadata": {},
   "source": [
    "---\n",
    "It was noted that NULLs occur differently in between the columns (example below), meaning that simply removing all rows with NULLs will remove more or less all data.\n",
    "\n",
    "To illustrate this, we have shows the three different neighbour columns for the city 'Agia Galini':"
   ]
  },
  {
   "cell_type": "code",
   "execution_count": 6,
   "metadata": {},
   "outputs": [
    {
     "name": "stdout",
     "output_type": "stream",
     "text": [
      "+-------------+----------------------+----------------------------+\n",
      "|neighbourhood|neighbourhood_cleansed|neighbourhood_group_cleansed|\n",
      "+-------------+----------------------+----------------------------+\n",
      "|         null|       Αγίου Βασιλείου|                        null|\n",
      "|         null|       Αγίου Βασιλείου|                        null|\n",
      "|         null|       Αγίου Βασιλείου|                        null|\n",
      "|         null|       Αγίου Βασιλείου|                        null|\n",
      "|         null|       Αγίου Βασιλείου|                        null|\n",
      "|         null|       Αγίου Βασιλείου|                        null|\n",
      "|         null|       Αγίου Βασιλείου|                        null|\n",
      "|         null|       Αγίου Βασιλείου|                        null|\n",
      "|         null|       Αγίου Βασιλείου|                        null|\n",
      "|         null|       Αγίου Βασιλείου|                        null|\n",
      "|         null|       Αγίου Βασιλείου|                        null|\n",
      "|         null|       Αγίου Βασιλείου|                        null|\n",
      "|         null|       Αγίου Βασιλείου|                        null|\n",
      "|         null|       Αγίου Βασιλείου|                        null|\n",
      "|         null|       Αγίου Βασιλείου|                        null|\n",
      "|         null|       Αγίου Βασιλείου|                        null|\n",
      "|         null|       Αγίου Βασιλείου|                        null|\n",
      "|         null|       Αγίου Βασιλείου|                        null|\n",
      "|         null|       Αγίου Βασιλείου|                        null|\n",
      "|         null|       Αγίου Βασιλείου|                        null|\n",
      "+-------------+----------------------+----------------------------+\n",
      "only showing top 20 rows\n",
      "\n"
     ]
    }
   ],
   "source": [
    "df_listings.select('neighbourhood','neighbourhood_cleansed','neighbourhood_group_cleansed')\\\n",
    "        .filter(f.col('city')=='Agia Galini').show()"
   ]
  },
  {
   "cell_type": "markdown",
   "metadata": {},
   "source": [
    "Instead, it was found that a lot of entries contained nothing but the column titles. These were removed by filtering out all IDs with a values of 'id'.\n",
    "A count was performed to get a feeling of how much smaller the dataset has become."
   ]
  },
  {
   "cell_type": "code",
   "execution_count": 7,
   "metadata": {},
   "outputs": [
    {
     "data": {
      "text/plain": [
       "1330385"
      ]
     },
     "execution_count": 7,
     "metadata": {},
     "output_type": "execute_result"
    }
   ],
   "source": [
    "#filtered_listings = df_listings\n",
    "filtered_listings = df_listings.filter(f.col('id') != 'id')\n",
    "filtered_listings.count()"
   ]
  },
  {
   "cell_type": "markdown",
   "metadata": {},
   "source": [
    "Apparently, this was only the case for ~100 entries, but the filtering was kept, as it solved some issues for us."
   ]
  },
  {
   "cell_type": "markdown",
   "metadata": {},
   "source": [
    "Depending on the specific questions, further data preparation steps may be done."
   ]
  },
  {
   "cell_type": "markdown",
   "metadata": {},
   "source": [
    "# Part 2: Analysis\n",
    "Use Spark and your favorite tool for data visualization to solve the following tasks.\n",
    "\n",
    "## The basics\n",
    "Compute and show a dataframe with the number of listings and neighbourhoods per city."
   ]
  },
  {
   "cell_type": "markdown",
   "metadata": {},
   "source": [
    "---\n",
    "We group by the city column and compute the aggregate functions count and count destinct on the 'neighbourhood_cleansed' column. To show the most interesting cities, we order by the column with the count of distinct neighbourhoods."
   ]
  },
  {
   "cell_type": "code",
   "execution_count": 8,
   "metadata": {},
   "outputs": [
    {
     "name": "stdout",
     "output_type": "stream",
     "text": [
      "+--------------+-----+-----------------------+\n",
      "|          city|Count|Distinct neighbourhoods|\n",
      "+--------------+-----+-----------------------+\n",
      "|Rio de Janeiro|19321|                    145|\n",
      "|   Los Angeles|27763|                    145|\n",
      "|       Toronto|21760|                    140|\n",
      "|        Berlin|24271|                    138|\n",
      "|        Madrid|20642|                    128|\n",
      "|       Oakland| 3122|                    124|\n",
      "|      New York|21457|                    120|\n",
      "|     Edinburgh|13339|                    111|\n",
      "|       Sevilla| 5532|                    103|\n",
      "|           Rio| 2180|                     94|\n",
      "|      Portland| 4548|                     94|\n",
      "|     Cape Town|21895|                     93|\n",
      "|       Seattle| 9017|                     89|\n",
      "|        Milano|17837|                     86|\n",
      "|     San Diego|12408|                     85|\n",
      "|        Girona|  759|                     82|\n",
      "|      València| 5466|                     81|\n",
      "|      Valencia| 1331|                     79|\n",
      "|         Milan| 2398|                     78|\n",
      "|        Denver| 4532|                     78|\n",
      "+--------------+-----+-----------------------+\n",
      "only showing top 20 rows\n",
      "\n"
     ]
    }
   ],
   "source": [
    "filtered_listings.filter(f.col('city').isNotNull()).groupBy('city')\\\n",
    "         .agg(f.count('neighbourhood_cleansed').alias('Count'),\\\n",
    "         f.countDistinct('neighbourhood_cleansed').alias('Distinct neighbourhoods'))\\\n",
    "         .orderBy(f.desc('Distinct neighbourhoods')).show()"
   ]
  },
  {
   "cell_type": "markdown",
   "metadata": {},
   "source": [
    "Based on the table above, you should choose a city that you want to continue your analysis for. The city should have mulitple neighbourhoods with listings in them.\n",
    "\n",
    "Compute and visualize the number of listings of different property types per neighbourhood in your city."
   ]
  },
  {
   "cell_type": "markdown",
   "metadata": {},
   "source": [
    "---\n",
    "We chose to work with Oakland, as it had relatively many distinct neighbourhoods and number of listings.\n",
    "In order to save time and processing power in the following computations, we persisted the newly created dataset 'Oakland'.\n",
    "To compute the number of listings with different property types per neighbourhood, we group by the neighbourhood and use the count distinct aggregate function. Finally, we order by the count."
   ]
  },
  {
   "cell_type": "code",
   "execution_count": 78,
   "metadata": {},
   "outputs": [
    {
     "name": "stdout",
     "output_type": "stream",
     "text": [
      "+--------------------+-----------------------+\n",
      "|       neighbourhood|Distinct Property Types|\n",
      "+--------------------+-----------------------+\n",
      "|             Oakland|                     22|\n",
      "|       North Oakland|                     12|\n",
      "|        East Oakland|                     12|\n",
      "|       Oakland Hills|                     10|\n",
      "|        West Oakland|                      9|\n",
      "|         Lower Hills|                      8|\n",
      "|     Northwest Hills|                      7|\n",
      "|            Elmhurst|                      7|\n",
      "|Southeast Oakland...|                      7|\n",
      "|             Bushrod|                      7|\n",
      "|Central East Oakland|                      7|\n",
      "|            Prescott|                      7|\n",
      "|    Downtown Oakland|                      6|\n",
      "|         Adams Point|                      5|\n",
      "|           Fruitvale|                      5|\n",
      "|            Temescal|                      5|\n",
      "|           Montclair|                      5|\n",
      "|             Shafter|                      5|\n",
      "|     Redwood Heights|                      5|\n",
      "|        Upper Dimond|                      5|\n",
      "+--------------------+-----------------------+\n",
      "only showing top 20 rows\n",
      "\n"
     ]
    }
   ],
   "source": [
    "# We filter for the city and remove NULLs\n",
    "Oakland = filtered_listings.filter(f.col('city') == 'Oakland').filter(f.col('price').isNotNull()).persist()\n",
    "oakland_count = Oakland.groupBy('neighbourhood')\\\n",
    "        .agg(f.countDistinct('property_type').alias('Distinct Property Types'))\\\n",
    "        .orderBy(f.desc('Distinct Property Types'))\n",
    "oakland_count.show()"
   ]
  },
  {
   "cell_type": "markdown",
   "metadata": {},
   "source": [
    "The visiualize the counts we use pandas and matplotlib to make a simple bar chart."
   ]
  },
  {
   "cell_type": "code",
   "execution_count": 10,
   "metadata": {},
   "outputs": [
    {
     "data": {
      "text/plain": [
       "[Text(0, 0.5, 'Count'), Text(0.5, 0, 'Neighbourhoods')]"
      ]
     },
     "execution_count": 10,
     "metadata": {},
     "output_type": "execute_result"
    },
    {
     "data": {
      "image/png": "[encoded data removed]",
      "text/plain": [
       "<Figure size 1080x360 with 1 Axes>"
      ]
     },
     "metadata": {},
     "output_type": "display_data"
    }
   ],
   "source": [
    "disPropType = oakland_count.toPandas()\n",
    "disPropType.plot.bar('neighbourhood','Distinct Property Types', figsize = (15,5))\\\n",
    "        .set(ylabel = 'Count', xlabel = 'Neighbourhoods')\n"
   ]
  },
  {
   "cell_type": "markdown",
   "metadata": {},
   "source": [
    "We see that the neighbourhood 'Oakland' has the highest number of listings, which is sensible as often the majority of the listings lie around the center of a city."
   ]
  },
  {
   "cell_type": "markdown",
   "metadata": {},
   "source": [
    "## Prices\n",
    "Compute the minimum, maximum and average listing price in your city. "
   ]
  },
  {
   "cell_type": "markdown",
   "metadata": {},
   "source": [
    "We list the first 100 entries, to see the format of the values."
   ]
  },
  {
   "cell_type": "code",
   "execution_count": 79,
   "metadata": {},
   "outputs": [
    {
     "name": "stdout",
     "output_type": "stream",
     "text": [
      "+---------+\n",
      "|    Price|\n",
      "+---------+\n",
      "|  $164.00|\n",
      "|   $52.00|\n",
      "|   $65.00|\n",
      "|  $100.00|\n",
      "|  $141.00|\n",
      "|   $70.00|\n",
      "|  $110.00|\n",
      "|  $141.00|\n",
      "|  $150.00|\n",
      "|  $200.00|\n",
      "|  $110.00|\n",
      "|  $245.00|\n",
      "|  $148.00|\n",
      "|   $90.00|\n",
      "|   $65.00|\n",
      "|   $68.00|\n",
      "|  $119.00|\n",
      "|  $148.00|\n",
      "|  $129.00|\n",
      "|  $225.00|\n",
      "|   $89.00|\n",
      "|   $89.00|\n",
      "|  $108.00|\n",
      "|  $230.00|\n",
      "|  $150.00|\n",
      "|   $75.00|\n",
      "|  $105.00|\n",
      "|  $300.00|\n",
      "|   $55.00|\n",
      "|   $83.00|\n",
      "|   $69.00|\n",
      "|  $195.00|\n",
      "|   $89.00|\n",
      "|   $79.00|\n",
      "|  $102.00|\n",
      "|   $99.00|\n",
      "|  $120.00|\n",
      "|   $72.00|\n",
      "|  $160.00|\n",
      "|  $165.00|\n",
      "|   $89.00|\n",
      "|  $110.00|\n",
      "|   $88.00|\n",
      "|  $200.00|\n",
      "|  $375.00|\n",
      "|  $135.00|\n",
      "|  $150.00|\n",
      "|  $105.00|\n",
      "|   $99.00|\n",
      "|   $85.00|\n",
      "|   $69.00|\n",
      "|   $99.00|\n",
      "|  $200.00|\n",
      "|   $40.00|\n",
      "|$2,500.00|\n",
      "|  $125.00|\n",
      "|  $225.00|\n",
      "|  $145.00|\n",
      "|   $75.00|\n",
      "|   $52.00|\n",
      "|  $193.00|\n",
      "|   $40.00|\n",
      "|  $349.00|\n",
      "|  $350.00|\n",
      "|   $80.00|\n",
      "|  $115.00|\n",
      "|  $130.00|\n",
      "|$2,400.00|\n",
      "|  $269.00|\n",
      "|   $96.00|\n",
      "|  $280.00|\n",
      "|   $89.00|\n",
      "|   $76.00|\n",
      "|  $800.00|\n",
      "|   $95.00|\n",
      "|   $76.00|\n",
      "|   $79.00|\n",
      "|  $105.00|\n",
      "|   $90.00|\n",
      "|  $220.00|\n",
      "|   $45.00|\n",
      "|   $90.00|\n",
      "|  $318.00|\n",
      "|  $100.00|\n",
      "|  $135.00|\n",
      "|   $55.00|\n",
      "|   $73.00|\n",
      "|   $90.00|\n",
      "|  $195.00|\n",
      "|  $160.00|\n",
      "|   $70.00|\n",
      "|  $130.00|\n",
      "|   $49.00|\n",
      "|   $99.00|\n",
      "|  $135.00|\n",
      "|   $67.00|\n",
      "|   $75.00|\n",
      "|   $80.00|\n",
      "|   $89.00|\n",
      "|   $80.00|\n",
      "+---------+\n",
      "only showing top 100 rows\n",
      "\n"
     ]
    }
   ],
   "source": [
    "Oakland.select('Price').show(100)"
   ]
  },
  {
   "cell_type": "markdown",
   "metadata": {},
   "source": [
    "We notice that the '$' sign is consistently present, and that both , and . appears. This will be needed to be delt with in order for us to handle them as numbers."
   ]
  },
  {
   "cell_type": "code",
   "execution_count": 12,
   "metadata": {},
   "outputs": [
    {
     "name": "stdout",
     "output_type": "stream",
     "text": [
      "+-----------+-----------+------------------+\n",
      "|Minimum ($)|Maximum ($)|      Averiage ($)|\n",
      "+-----------+-----------+------------------+\n",
      "|       16.0|     3150.0|129.84748478051907|\n",
      "+-----------+-----------+------------------+\n",
      "\n"
     ]
    }
   ],
   "source": [
    "# First, we make a new column that removes '$' and ',' from a value.\n",
    "# Then we cast the values to the float type, drop the old price and rename the newly created.\n",
    "Oakland = Oakland.withColumn('Price_', f.translate(f.col('price'),'$,','')\\\n",
    "        .cast('float')).drop('price').withColumnRenamed('Price_','Price')\n",
    "\n",
    "# We filtered out NULLs and decided to only include listings with a price above 0,\n",
    "# as it was concluded that these must be typos. Then, the aggregate functions min, max, and avg were computed:\n",
    "Oakland.filter(f.col('Price').isNotNull()).filter(f.col('Price') > 0)\\\n",
    "        .select(f.min(f.col('Price')).alias('Minimum ($)'),\\\n",
    "        f.max(f.col('Price')).alias('Maximum ($)')\\\n",
    "        ,f.avg(f.col('Price')).alias('Averiage ($)')).show()"
   ]
  },
  {
   "cell_type": "markdown",
   "metadata": {},
   "source": [
    "We can now conclude that the cheapest listing costs \\$16 per night, while the most expensive costs \\$3150. The average cost lies around \\$130.\n",
    "\n",
    "---"
   ]
  },
  {
   "cell_type": "markdown",
   "metadata": {},
   "source": [
    "Compute and visualize the distribution of listing prices in your city."
   ]
  },
  {
   "cell_type": "markdown",
   "metadata": {},
   "source": [
    "---\n",
    "We convert the Oakland prices to a pandas dataframe to plot a histogram over it."
   ]
  },
  {
   "cell_type": "code",
   "execution_count": 13,
   "metadata": {},
   "outputs": [
    {
     "data": {
      "text/plain": [
       "[Text(0, 0.5, 'Number of listings'), Text(0.5, 0, 'Price')]"
      ]
     },
     "execution_count": 13,
     "metadata": {},
     "output_type": "execute_result"
    },
    {
     "data": {
      "image/png": "[encoded data removed]",
      "text/plain": [
       "<Figure size 1080x360 with 1 Axes>"
      ]
     },
     "metadata": {},
     "output_type": "display_data"
    }
   ],
   "source": [
    "oak_prices = Oakland.select('Price').toPandas()\n",
    "oak_prices.plot.hist(figsize = (15, 5))\\\n",
    "        .set(ylabel='Number of listings', xlabel='Price')"
   ]
  },
  {
   "cell_type": "markdown",
   "metadata": {},
   "source": [
    "We see that the vast majority of AirBnB listings for our site are in the price range of the average listing price.\n",
    "Vary few are \\> \\$1000, therefore, to get a feeling of the distribution below this price, we filtered the prices above \\$500 out:"
   ]
  },
  {
   "cell_type": "code",
   "execution_count": 14,
   "metadata": {},
   "outputs": [
    {
     "data": {
      "text/plain": [
       "[Text(0, 0.5, 'Number of listings'), Text(0.5, 0, 'Price')]"
      ]
     },
     "execution_count": 14,
     "metadata": {},
     "output_type": "execute_result"
    },
    {
     "data": {
      "image/png": "[encoded data removed]",
      "text/plain": [
       "<Figure size 1080x360 with 1 Axes>"
      ]
     },
     "metadata": {},
     "output_type": "display_data"
    }
   ],
   "source": [
    "oak_prices = pd.DataFrame(Oakland.filter(f.col('Price') < 500).select('Price').toPandas())\n",
    "oak_prices.plot.hist(figsize = (15, 5))\\\n",
    "        .set(ylabel='Number of listings', xlabel='Price')\n"
   ]
  },
  {
   "cell_type": "markdown",
   "metadata": {},
   "source": [
    "This gives a much nicer view of the distribution in the lower end of the price range.\n",
    "We can conclude that the majority of listings have prices near \\$50-150 per night, so just around the average listing price.\n",
    "\n",
    "---"
   ]
  },
  {
   "cell_type": "markdown",
   "metadata": {},
   "source": [
    "The value of a listing is its rating divided by its price.\n",
    "\n",
    "Compute and show a dataframe with the 3 highest valued listings in each neighbourhood."
   ]
  },
  {
   "cell_type": "markdown",
   "metadata": {},
   "source": [
    "To do this, we first create a new column with the value, calculated as descibred above. We then make a window partitioned by the neighbourhood, which is ordered by the value.\n",
    "\n",
    "We then compute the value ranks with the rank function over the created window. The result is printed by filtering ranks \\< 3 and selecting the appropriate columns."
   ]
  },
  {
   "cell_type": "code",
   "execution_count": 15,
   "metadata": {},
   "outputs": [
    {
     "name": "stdout",
     "output_type": "stream",
     "text": [
      "+--------+--------------------+------------------+---------+\n",
      "|      id|       Neighbourhood|             Value|ValueRank|\n",
      "+--------+--------------------+------------------+---------+\n",
      "|14770441|         Adams Point|3.4642857142857144|        1|\n",
      "|17078348|         Adams Point|             2.325|        2|\n",
      "|17929214|         Adams Point|1.8181818181818181|        3|\n",
      "|  743479|         Bella Vista|             1.225|        1|\n",
      "| 6259818|         Bella Vista|0.5344827586206896|        2|\n",
      "| 2739753|             Bushrod|2.3846153846153846|        1|\n",
      "| 1280992|             Bushrod|               2.0|        2|\n",
      "| 8149763|             Bushrod|1.8148148148148149|        3|\n",
      "|26570073|       Caballo Hills|               2.0|        1|\n",
      "|26688387|       Caballo Hills|1.7636363636363637|        2|\n",
      "|27903925|       Caballo Hills|1.5833333333333333|        3|\n",
      "|34120346|Central East Oakland| 4.318181818181818|        1|\n",
      "|26690740|Central East Oakland| 4.086956521739131|        2|\n",
      "|26690535|Central East Oakland|3.9565217391304346|        3|\n",
      "| 3695319|         Chabot Park|1.7636363636363637|        1|\n",
      "|34156946|           Chinatown|3.3333333333333335|        1|\n",
      "|31145170|           Chinatown|3.0344827586206895|        2|\n",
      "|34156617|           Chinatown| 2.962962962962963|        3|\n",
      "|15534867|             Clawson|1.7454545454545454|        1|\n",
      "|  597895|             Clawson|1.2763157894736843|        2|\n",
      "| 1484607|             Clawson|              0.99|        3|\n",
      "|22433029|   Cleveland Heights|2.6315789473684212|        1|\n",
      "|33618956|   Cleveland Heights|2.6315789473684212|        1|\n",
      "|26282060|   Cleveland Heights|1.8888888888888888|        3|\n",
      "|36757331|             Clinton|2.7027027027027026|        1|\n",
      "|24267960|             Clinton|1.0777777777777777|        2|\n",
      "|31909938|             Clinton|0.8434782608695652|        3|\n",
      "|21802229|             Dogtown|           2.96875|        1|\n",
      "|21802273|             Dogtown|            2.9375|        2|\n",
      "|21802117|             Dogtown|           2.90625|        3|\n",
      "|30111263|    Downtown Oakland| 3.111111111111111|        1|\n",
      "|31145653|    Downtown Oakland|3.0344827586206895|        2|\n",
      "|31243489|    Downtown Oakland|2.9310344827586206|        3|\n",
      "|31831256|        East Oakland| 4.260869565217392|        1|\n",
      "|31831020|        East Oakland| 4.217391304347826|        2|\n",
      "|26690688|        East Oakland| 4.130434782608695|        3|\n",
      "| 3803423|        East Peralta|1.7037037037037037|        1|\n",
      "|15314952|            Elmhurst| 2.962962962962963|        1|\n",
      "|26253043|            Elmhurst|2.7142857142857144|        2|\n",
      "|29104781|            Elmhurst|2.5833333333333335|        3|\n",
      "|  637155|       Fairview Park|1.1973684210526316|        1|\n",
      "| 5893465|       Fairview Park|1.1518987341772151|        2|\n",
      "|16271642|       Fairview Park|1.0421052631578946|        3|\n",
      "| 5182887|          Forestland|1.6166666666666667|        1|\n",
      "|32020494|          Forestland|1.1428571428571428|        2|\n",
      "|23668996|          Forestland|1.0526315789473684|        3|\n",
      "|20995485|           Fruitvale|             3.125|        1|\n",
      "|16795081|           Fruitvale| 2.857142857142857|        2|\n",
      "|20882680|           Fruitvale|2.6315789473684212|        3|\n",
      "|23005803|             Gaskill|1.5806451612903225|        1|\n",
      "|16858622|             Gaskill|1.3285714285714285|        2|\n",
      "|13298478|             Gaskill|1.0309278350515463|        3|\n",
      "|31677146|      Glen Highlands| 1.523076923076923|        1|\n",
      "|21549143|      Glen Highlands|             1.125|        2|\n",
      "|  302629|      Glen Highlands|1.1136363636363635|        3|\n",
      "|11257153|            Glenview|1.1585365853658536|        1|\n",
      "|21884600|            Glenview|           0.59375|        2|\n",
      "|14035741|            Glenview|0.5555555555555556|        3|\n",
      "|27406560|         Golden Gate| 2.111111111111111|        1|\n",
      "| 9617309|         Golden Gate|2.0833333333333335|        2|\n",
      "|20782003|         Golden Gate|1.3333333333333333|        3|\n",
      "|20075153|          Grand Lake| 5.052631578947368|        1|\n",
      "|17793909|          Grand Lake|3.3214285714285716|        2|\n",
      "|16557646|          Grand Lake|3.1724137931034484|        3|\n",
      "| 9077674|Harrison Street/O...|           1.53125|        1|\n",
      "|  253308|Harrison Street/O...|1.3194444444444444|        2|\n",
      "| 6678331|Harrison Street/O...|1.2181818181818183|        3|\n",
      "|29319383|       Highland Park| 1.403225806451613|        1|\n",
      "|33621318|       Highland Park|               1.4|        2|\n",
      "| 6186641|       Highland Park|1.1647058823529413|        3|\n",
      "|34420790|    Highland Terrace|              2.45|        1|\n",
      "|19182373|    Highland Terrace|             0.736|        2|\n",
      "|11049950|            Ivy Hill|1.4307692307692308|        1|\n",
      "|22121224|            Ivy Hill|               1.4|        2|\n",
      "| 8087754|            Ivy Hill|1.3333333333333333|        3|\n",
      "|15254224| Joaquin Miller Park|0.9797979797979798|        1|\n",
      "|14725670|        Lake Merritt|1.2933333333333332|        1|\n",
      "|   55255|        Lake Merritt|1.0888888888888888|        2|\n",
      "|23731165|        Lake Merritt|  0.98989898989899|        3|\n",
      "|11533499|           Lakeshore|0.9339622641509434|        1|\n",
      "|31382416|            Lakeside|1.3846153846153846|        1|\n",
      "|10022803|            Lakeside|1.1764705882352942|        2|\n",
      "|15274930|            Lakeside|1.0909090909090908|        3|\n",
      "|21967839|       Leona Heights|1.8181818181818181|        1|\n",
      "|27723009|       Leona Heights|1.3333333333333333|        2|\n",
      "| 4365392|       Leona Heights|0.6666666666666666|        3|\n",
      "|23153301|   Lincoln Highlands| 1.123456790123457|        1|\n",
      "|36727780|   Lincoln Highlands|1.0101010101010102|        2|\n",
      "|26365215|   Lincoln Highlands|0.4682926829268293|        3|\n",
      "|19345280|          Longfellow| 2.127659574468085|        1|\n",
      "| 8965978|          Longfellow| 2.088888888888889|        2|\n",
      "|12189833|          Longfellow| 2.088888888888889|        2|\n",
      "| 8354354|       Lower Bottoms|1.3846153846153846|        1|\n",
      "|13636373|       Lower Bottoms| 0.868421052631579|        2|\n",
      "|34682017|       Lower Bottoms|0.4714285714285714|        3|\n",
      "|29493595|         Lower Hills|3.3793103448275863|        1|\n",
      "|16579928|         Lower Hills|3.1724137931034484|        2|\n",
      "|17607684|         Lower Hills| 3.107142857142857|        3|\n",
      "|33368583|                Lynn|               2.4|        1|\n",
      "|22213414|                Lynn|1.0333333333333334|        2|\n",
      "|33365421|                Lynn|0.4271356783919598|        3|\n",
      "|25552303|        Meadow Brook|2.6857142857142855|        1|\n",
      "|22562467|        Meadow Brook|2.5428571428571427|        2|\n",
      "|30513744|        Meadow Brook| 1.694915254237288|        3|\n",
      "|12365568|             Merritt|              1.96|        1|\n",
      "| 4099934|             Merritt|              1.84|        2|\n",
      "| 9590876|             Merritt|              1.84|        2|\n",
      "| 2599217|           Merriwood| 1.476923076923077|        1|\n",
      "| 6951658|           Merriwood|               1.0|        2|\n",
      "| 4925496|           Merriwood|              0.99|        3|\n",
      "|14298525|           Montclair|              1.96|        1|\n",
      "| 8830405|           Montclair|1.3066666666666666|        2|\n",
      "|10902785|           Montclair|1.2531645569620253|        3|\n",
      "|31295709|            Mosswood|1.8181818181818181|        1|\n",
      "| 1876416|            Mosswood|              1.65|        2|\n",
      "|   56273|            Mosswood|1.5384615384615385|        3|\n",
      "|22466746|       North Oakland| 3.225806451612903|        1|\n",
      "|25015473|       North Oakland|           3.03125|        2|\n",
      "|38386300|       North Oakland| 2.857142857142857|        3|\n",
      "| 7594969|     Northwest Hills|               2.0|        1|\n",
      "| 1747411|     Northwest Hills|1.8181818181818181|        2|\n",
      "|32018844|     Northwest Hills|1.7142857142857142|        3|\n",
      "|33451748|          Oak Center|1.8518518518518519|        1|\n",
      "|24138006|          Oak Center|1.6065573770491803|        2|\n",
      "| 8324744|          Oak Center|1.3285714285714285|        3|\n",
      "|21975683|            Oak Tree|0.9894736842105263|        1|\n",
      "|22716007|             Oakland| 5.052631578947368|        1|\n",
      "|15290825|             Oakland| 4.578947368421052|        2|\n",
      "|21207200|             Oakland|               4.0|        3|\n",
      "| 8860519|       Oakland Hills|               2.8|        1|\n",
      "|30822892|       Oakland Hills|2.6666666666666665|        2|\n",
      "|31313760|       Oakland Hills|               2.5|        3|\n",
      "|21462206|       Oakland Hills|               2.5|        3|\n",
      "|11553790|             Oakmore|1.8461538461538463|        1|\n",
      "| 1315776|             Oakmore|1.8181818181818181|        2|\n",
      "| 6000201|             Oakmore|1.5806451612903225|        3|\n",
      "|32518126|            Old City|               2.0|        1|\n",
      "|13381058|            Old City| 0.979381443298969|        2|\n",
      "|11419858|       Paradise Park|               2.4|        1|\n",
      "|  235160|       Paradise Park| 1.240506329113924|        2|\n",
      "|26783805|       Paradise Park|0.8319327731092437|        3|\n",
      "|10923716|            Piedmont|               1.1|        1|\n",
      "|24087242|            Piedmont| 1.098901098901099|        2|\n",
      "|17806379|            Piedmont|1.0421052631578946|        3|\n",
      "|19781908|     Piedmont Avenue| 1.719298245614035|        1|\n",
      "|20567425|     Piedmont Avenue| 1.639344262295082|        2|\n",
      "|   62214|     Piedmont Avenue|1.4264705882352942|        3|\n",
      "|21566701|      Piedmont Pines|0.8928571428571429|        1|\n",
      "| 7579214|      Piedmont Pines|0.6711409395973155|        2|\n",
      "|31256864|      Piedmont Pines|0.6573426573426573|        3|\n",
      "|22232914|           Pill Hill|               5.0|        1|\n",
      "|14928199|           Pill Hill|               2.0|        2|\n",
      "| 4378325|           Pill Hill|0.9693877551020408|        3|\n",
      "|28817706|            Prescott|              3.68|        1|\n",
      "|29185822|            Prescott|3.6296296296296298|        2|\n",
      "|27196492|            Prescott|3.3793103448275863|        3|\n",
      "|23045702|Produce and Water...|1.3333333333333333|        1|\n",
      "| 8336147|Produce and Water...|               0.8|        2|\n",
      "|22066737|Produce and Water...|0.5128205128205128|        3|\n",
      "|32693542|Ralph Bunche/McCl...|2.0408163265306123|        1|\n",
      "|34816637|Ralph Bunche/McCl...|               2.0|        2|\n",
      "|31237294|Ralph Bunche/McCl...|              1.82|        3|\n",
      "|24227657|  Rancho San Antonio|               2.5|        1|\n",
      "|29032822|  Rancho San Antonio|0.6666666666666666|        2|\n",
      "|33426612|     Redwood Heights|               2.5|        1|\n",
      "|19663257|     Redwood Heights|1.7454545454545454|        2|\n",
      "|21013375|     Redwood Heights| 1.690909090909091|        3|\n",
      "|24651692|      Reservoir Hill|              3.76|        1|\n",
      "|23418449|      Reservoir Hill|              3.64|        2|\n",
      "|22214553|      Reservoir Hill|  2.41025641025641|        3|\n",
      "| 4180140|           Rockridge|1.6363636363636365|        1|\n",
      "| 7131456|           Rockridge|1.3692307692307693|        2|\n",
      "|18549983|           Rockridge|1.3333333333333333|        3|\n",
      "|30339219|   San Pablo Gateway| 2.735294117647059|        1|\n",
      "| 2479459|   San Pablo Gateway|              1.25|        2|\n",
      "| 6808306|   San Pablo Gateway|0.8173913043478261|        3|\n",
      "|32866320|            Santa Fe|1.4285714285714286|        1|\n",
      "| 8213527|            Santa Fe| 1.318840579710145|        2|\n",
      "|12736724|            Santa Fe| 1.303030303030303|        3|\n",
      "|31208257|            Sequoyah|1.4558823529411764|        1|\n",
      "| 1641978|            Sequoyah|1.1529411764705881|        2|\n",
      "|35017399|            Sequoyah|              0.62|        3|\n",
      "|33667839|             Shafter|1.0434782608695652|        1|\n",
      "|24948341|             Shafter|1.0217391304347827|        2|\n",
      "| 2653223|             Shafter|1.0105263157894737|        3|\n",
      "|24208199|      Shepard Canyon|1.4328358208955223|        1|\n",
      "|30763785|      Shepard Canyon|0.7461538461538462|        2|\n",
      "|22714514|      South Prescott|            5.6875|        1|\n",
      "|22659458|      South Prescott|3.6538461538461537|        2|\n",
      "|22988235|      South Prescott|2.0444444444444443|        3|\n",
      "|15633675|Southeast Oakland...|2.4390243902439024|        1|\n",
      "|10771661|Southeast Oakland...|2.1777777777777776|        2|\n",
      "| 2261596|Southeast Oakland...|               2.0|        3|\n",
      "|31363715|            Temescal|2.7777777777777777|        1|\n",
      "|20138955|            Temescal|             2.425|        2|\n",
      "|15821300|            Temescal|1.5384615384615385|        3|\n",
      "|  752568|        Trestle Glen| 1.101123595505618|        1|\n",
      "| 4385104|        Trestle Glen|               1.0|        2|\n",
      "| 2008590|        Trestle Glen|             0.784|        3|\n",
      "| 5927928|              Tuxedo|1.5666666666666667|        1|\n",
      "|13158957|              Tuxedo|1.3333333333333333|        2|\n",
      "|37916038|              Tuxedo|0.5555555555555556|        3|\n",
      "|23056765|        Upper Dimond|               2.0|        1|\n",
      "| 9113293|        Upper Dimond|               2.0|        1|\n",
      "|22775765|        Upper Dimond|1.8846153846153846|        3|\n",
      "| 5925787|     Upper Rockridge|             1.225|        1|\n",
      "|27638594|     Upper Rockridge|         0.7578125|        2|\n",
      "|  155368|     Upper Rockridge|              0.66|        3|\n",
      "|28817968|        West Oakland|               4.0|        1|\n",
      "|29185737|        West Oakland|3.6296296296296298|        2|\n",
      "|28813797|        West Oakland|              3.52|        3|\n",
      "+--------+--------------------+------------------+---------+\n",
      "\n"
     ]
    }
   ],
   "source": [
    "# Calculate value:\n",
    "Oakland_score = Oakland.filter(f.col('review_scores_rating').isNotNull())\\\n",
    "        .withColumn('Value', f.col('review_scores_rating').cast('float')/f.col('price'))\n",
    "# Create window:\n",
    "sorted_by_hood_window = Window.partitionBy('neighbourhood').orderBy(f.desc('Value'))\n",
    "# Make rank and filter results:\n",
    "ranked_oakland = Oakland_score.withColumn('ValueRank', f.rank().over(sorted_by_hood_window))\n",
    "ranked_oakland = ranked_oakland.filter(f.col('ValueRank') <= 3).orderBy('Neighbourhood', f.desc('Value'))\\\n",
    "        .select('id','Neighbourhood','Value','ValueRank')\n",
    "ranked_oakland.show(10000)"
   ]
  },
  {
   "cell_type": "markdown",
   "metadata": {},
   "source": [
    "We see that it is not all neighbourhoods that have more than 1 or 2 listings, so a top 3 of those cannot be shown.\n"
   ]
  },
  {
   "cell_type": "markdown",
   "metadata": {},
   "source": [
    "## Trends\n",
    "Now we want to analyze the \"popularity\" of your city. The data does not contain the number of bookings per listing, but we have a large number of reviews, and we will assume that this is a good indicator of activity on listings."
   ]
  },
  {
   "cell_type": "markdown",
   "metadata": {},
   "source": [
    "Compute and visualize the popularity (i.e., number of reviews) of your city over time."
   ]
  },
  {
   "cell_type": "markdown",
   "metadata": {},
   "source": [
    "---\n",
    "For this the reviews.csv dataset is needed. In order to associate the relevant reviews with their appropriate listing, we did a broadcast inner join of the listing\\_id in df\\_reviews and id (renamed to id\\_) from Oakland.\n",
    "The new dataset was persisted to make future computations faster."
   ]
  },
  {
   "cell_type": "code",
   "execution_count": 16,
   "metadata": {},
   "outputs": [
    {
     "name": "stdout",
     "output_type": "stream",
     "text": [
      "+----------+--------+----------+-----------+-------------+--------------------+-------------+\n",
      "|listing_id|      id|      date|reviewer_id|reviewer_name|            comments|neighbourhood|\n",
      "+----------+--------+----------+-----------+-------------+--------------------+-------------+\n",
      "|      3083|16797662|2014-08-02|   18272366| Carlos Kenji|B- love guest hou...| West Oakland|\n",
      "|      3083|19980893|2014-09-21|    4400249|        Jason|The description w...| West Oakland|\n",
      "|      3083|21720882|2014-10-22|    4268642|       Carmen|B-Love makes me f...| West Oakland|\n",
      "|      3083|27107155|2015-02-25|   23674350|      Matthew|Simple but effect...| West Oakland|\n",
      "|      3083|33318077|2015-05-26|    1252519|        Pavel|I enjoyed staying...| West Oakland|\n",
      "+----------+--------+----------+-----------+-------------+--------------------+-------------+\n",
      "only showing top 5 rows\n",
      "\n"
     ]
    }
   ],
   "source": [
    "Oakland_ids = Oakland.select('id','neighbourhood').withColumnRenamed('id','id_')\n",
    "Oakland_reviews = df_reviews.join(f.broadcast(Oakland_ids),\\\n",
    "        (f.col('listing_id') == f.col('id_')), 'inner').drop('id_').persist()\n",
    "Oakland_reviews.show(5)"
   ]
  },
  {
   "cell_type": "markdown",
   "metadata": {},
   "source": [
    "The reviews were grouped by the date, counted and then ordered.\n",
    "The result was plotted to show the popularity over time."
   ]
  },
  {
   "cell_type": "code",
   "execution_count": 17,
   "metadata": {},
   "outputs": [
    {
     "data": {
      "text/plain": [
       "[Text(0, 0.5, 'Count')]"
      ]
     },
     "execution_count": 17,
     "metadata": {},
     "output_type": "execute_result"
    },
    {
     "data": {
      "image/png": "[encoded data removed]",
      "text/plain": [
       "<Figure size 1080x360 with 1 Axes>"
      ]
     },
     "metadata": {},
     "output_type": "display_data"
    }
   ],
   "source": [
    "review_time = Oakland_reviews.groupBy('Date').count()\\\n",
    "        .orderBy(f.col('Date'))\n",
    "\n",
    "review_time.toPandas().plot('Date','count', figsize=(15,5)).set(ylabel='Count')"
   ]
  },
  {
   "cell_type": "markdown",
   "metadata": {},
   "source": [
    "We see thath the city was not very popular in the early days of AirBnB, which makes sense. Interestingly, we see huge deviations in popularity, probably caused by the seasons.\n",
    "\n",
    "---"
   ]
  },
  {
   "cell_type": "markdown",
   "metadata": {},
   "source": [
    "Compute and visualize the popularity of neighbourhoods over time. If there are many neighbourhoods in your city, you should select a few interesting ones for comparison."
   ]
  },
  {
   "cell_type": "markdown",
   "metadata": {},
   "source": [
    "---\n",
    "We selected 5 neighbourhoods, and plotted their individual popularity over time.\n",
    "We chose to only look at months, as it gave a nicer overview and made the seasons more clear."
   ]
  },
  {
   "cell_type": "code",
   "execution_count": 18,
   "metadata": {},
   "outputs": [
    {
     "data": {
      "image/png": "[encoded data removed]",
      "text/plain": [
       "<Figure size 1080x360 with 1 Axes>"
      ]
     },
     "metadata": {},
     "output_type": "display_data"
    },
    {
     "data": {
      "image/png": "[encoded data removed]",
      "text/plain": [
       "<Figure size 1080x360 with 1 Axes>"
      ]
     },
     "metadata": {},
     "output_type": "display_data"
    },
    {
     "data": {
      "image/png": "[encoded data removed]",
      "text/plain": [
       "<Figure size 1080x360 with 1 Axes>"
      ]
     },
     "metadata": {},
     "output_type": "display_data"
    },
    {
     "data": {
      "image/png": "[encoded data removed]",
      "text/plain": [
       "<Figure size 1080x360 with 1 Axes>"
      ]
     },
     "metadata": {},
     "output_type": "display_data"
    },
    {
     "data": {
      "image/png": "[encoded data removed]",
      "text/plain": [
       "<Figure size 1080x360 with 1 Axes>"
      ]
     },
     "metadata": {},
     "output_type": "display_data"
    }
   ],
   "source": [
    "cool_hoods = ['Central East Oakland', 'Oakland Hills', 'Lower Hills', 'Bushrod', 'Grand Lake']\n",
    "\n",
    "for hood in cool_hoods:\n",
    "    Oakland_reviews.filter(f.col('neighbourhood') == hood)\\\n",
    "        .withColumn('date_mth', f.col('date').substr(0, 7))\\\n",
    "        .groupBy('date_mth').count().orderBy(f.col('date_mth'))\\\n",
    "        .withColumnRenamed('count','Count').toPandas()\\\n",
    "        .plot.bar('date_mth','Count', figsize = (15,5), title = hood).set(ylabel='Count', xlabel='Date')\n"
   ]
  },
  {
   "cell_type": "markdown",
   "metadata": {},
   "source": [
    "Compute and visualize the popularity of your city by season. For example, visualize the popularity of your city per month."
   ]
  },
  {
   "cell_type": "markdown",
   "metadata": {},
   "source": [
    "---\n",
    "To make this more clear, we chose to only look at the year 2018."
   ]
  },
  {
   "cell_type": "code",
   "execution_count": 19,
   "metadata": {},
   "outputs": [
    {
     "data": {
      "text/plain": [
       "[Text(0, 0.5, 'Count'), Text(0.5, 0, '(Year-Month)')]"
      ]
     },
     "execution_count": 19,
     "metadata": {},
     "output_type": "execute_result"
    },
    {
     "data": {
      "image/png": "[encoded data removed]",
      "text/plain": [
       "<Figure size 1080x360 with 1 Axes>"
      ]
     },
     "metadata": {},
     "output_type": "display_data"
    }
   ],
   "source": [
    "seasons = Oakland_reviews.select('date')\\\n",
    "        .filter(f.split(f.col('date'),'-')[0] == '2018')\\\n",
    "        .withColumn('date_mth', f.col('date').substr(0, 7))\\\n",
    "        .groupBy('date_mth').count().orderBy(f.col('date_mth'))\\\n",
    "        .select('Date_mth','Count').toPandas()\n",
    "\n",
    "seasons.plot.bar('Date_mth','Count',figsize=(15,5)).set(ylabel = 'Count', xlabel = '(Year-Month)')\n"
   ]
  },
  {
   "cell_type": "markdown",
   "metadata": {},
   "source": [
    "We see a trend that Oakland is most popular during the mid-late summer months (July, August, September, and October)."
   ]
  },
  {
   "cell_type": "markdown",
   "metadata": {},
   "source": [
    "## Reviews\n",
    "In this part you should determine which words used in reviews that are the most positive. \n",
    "\n",
    "The individual reviews do not have a rating of the listing, so we will assume that each review gave the average rating to the listing, i.e., the one on the listing.\n",
    "\n",
    "You should assign a positivity weight to each word seen in reviews and list the words with the highest weight. It is up to you to decide what the weight should be. For example, it can be a function of the rating on the listing on which it occurs, the number of reviews it occurs in, and the number of unique listings for which it was used to review.\n",
    "\n",
    "Depending on your choice of weight function, you may also want to do some filtering of words. For example, remove words that only occur in a few reviews."
   ]
  },
  {
   "cell_type": "markdown",
   "metadata": {},
   "source": [
    "In order to answer this question, we broadcasted the Oakland rating scores into the reviews dataset using an inner join. Thus excluding reviews not related to Oakland. The resulting dataset was persisted to make the following computations run faster."
   ]
  },
  {
   "cell_type": "code",
   "execution_count": 20,
   "metadata": {},
   "outputs": [
    {
     "name": "stdout",
     "output_type": "stream",
     "text": [
      "+----------+--------+----------+-----------+-------------+--------------------+------+\n",
      "|listing_id|      id|      date|reviewer_id|reviewer_name|            comments|Rating|\n",
      "+----------+--------+----------+-----------+-------------+--------------------+------+\n",
      "|      3083|16797662|2014-08-02|   18272366| Carlos Kenji|B- love guest hou...|  91.0|\n",
      "|      3083|19980893|2014-09-21|    4400249|        Jason|The description w...|  91.0|\n",
      "|      3083|21720882|2014-10-22|    4268642|       Carmen|B-Love makes me f...|  91.0|\n",
      "|      3083|27107155|2015-02-25|   23674350|      Matthew|Simple but effect...|  91.0|\n",
      "|      3083|33318077|2015-05-26|    1252519|        Pavel|I enjoyed staying...|  91.0|\n",
      "+----------+--------+----------+-----------+-------------+--------------------+------+\n",
      "only showing top 5 rows\n",
      "\n"
     ]
    }
   ],
   "source": [
    "Oakland_rating = Oakland.filter(f.col('review_scores_rating').isNotNull())\\\n",
    "        .withColumn('Rating', f.col('review_scores_rating').cast('float'))\\\n",
    "        .drop('review_scores_rating').select('id','Rating').withColumnRenamed('id','id_')\n",
    "\n",
    "Oakland_reviews = df_reviews.join(f.broadcast(Oakland_rating),\\\n",
    "        (f.col('listing_id') == f.col('id_')), 'inner').drop('id_').persist()\n",
    "Oakland_reviews.show(5)"
   ]
  },
  {
   "cell_type": "markdown",
   "metadata": {},
   "source": [
    "We write a few helper functions and register them with spark UDF:"
   ]
  },
  {
   "cell_type": "code",
   "execution_count": 61,
   "metadata": {},
   "outputs": [],
   "source": [
    "# Helper functions for Spark operations\n",
    "\n",
    "def remove_punct(text):\n",
    "    # This function removes non-word characters from the comments.\n",
    "    return text.lower().translate(str.maketrans('', '', '0123456789\\n\\t\\r'+string.punctuation))\n",
    "    \n",
    "\n",
    "\n",
    "def update_word_dict(rating, wordlists):\n",
    "    # This function the words are counted and their ratings are summed.\n",
    "    word_dict = dict()\n",
    "    for wordlist in wordlists:\n",
    "        for word in wordlist:\n",
    "            if word == '': continue\n",
    "            if word not in word_dict:\n",
    "                word_dict[word] = [int(rating), 1]\n",
    "            else:\n",
    "                word_dict[word][0] += int(rating)   # Update sum of rating\n",
    "                word_dict[word][1] += 1             # Update count\n",
    "    return word_dict\n",
    "\n",
    "spark.udf.register(\"wordScorer\", update_word_dict)\n",
    "wordScorer = f.udf(update_word_dict, StringType())\n",
    "spark.udf.register(\"removePunct\", remove_punct)\n",
    "removePunct = f.udf(remove_punct, StringType())"
   ]
  },
  {
   "cell_type": "markdown",
   "metadata": {},
   "source": [
    "This next step we were not able to solve using only Spark. Instead we created a dictionary for every review and combined them based on their rating score. Thus we would maximally have 100 dictionaries of words. This was expected to be possible to handle in memory, even if a much larger dataset was used.\n",
    "This was then converted to a pandas dataframe, allowing us to iterate through the rows and combine the created word dictionaries.\n",
    "The Spark execution works by creating a list of words based on the comments. These were grouped by rating and the word scores (the function 'update_word_dict') was used to generate a dictionary from each list of words."
   ]
  },
  {
   "cell_type": "code",
   "execution_count": 65,
   "metadata": {},
   "outputs": [
    {
     "data": {
      "text/html": [
       "<div>\n",
       "<style scoped>\n",
       "    .dataframe tbody tr th:only-of-type {\n",
       "        vertical-align: middle;\n",
       "    }\n",
       "\n",
       "    .dataframe tbody tr th {\n",
       "        vertical-align: top;\n",
       "    }\n",
       "\n",
       "    .dataframe thead th {\n",
       "        text-align: right;\n",
       "    }\n",
       "</style>\n",
       "<table border=\"1\" class=\"dataframe\">\n",
       "  <thead>\n",
       "    <tr style=\"text-align: right;\">\n",
       "      <th></th>\n",
       "      <th>Rating</th>\n",
       "      <th>longdict</th>\n",
       "    </tr>\n",
       "  </thead>\n",
       "  <tbody>\n",
       "    <tr>\n",
       "      <td>0</td>\n",
       "      <td>82.0</td>\n",
       "      <td>{cancel=[82, 1], nicely=[82, 1], half=[164, 2]...</td>\n",
       "    </tr>\n",
       "    <tr>\n",
       "      <td>1</td>\n",
       "      <td>90.0</td>\n",
       "      <td>{cancel=[450, 5], nicely=[1890, 21], half=[144...</td>\n",
       "    </tr>\n",
       "    <tr>\n",
       "      <td>2</td>\n",
       "      <td>86.0</td>\n",
       "      <td>{nicely=[258, 3], prepare=[86, 1], half=[172, ...</td>\n",
       "    </tr>\n",
       "    <tr>\n",
       "      <td>3</td>\n",
       "      <td>91.0</td>\n",
       "      <td>{busses=[364, 4], cancel=[182, 2], nicely=[336...</td>\n",
       "    </tr>\n",
       "    <tr>\n",
       "      <td>4</td>\n",
       "      <td>99.0</td>\n",
       "      <td>{cca=[99, 1], busses=[594, 6], cancel=[495, 5]...</td>\n",
       "    </tr>\n",
       "    <tr>\n",
       "      <td>5</td>\n",
       "      <td>89.0</td>\n",
       "      <td>{cca=[89, 1], busses=[89, 1], cancel=[89, 1], ...</td>\n",
       "    </tr>\n",
       "    <tr>\n",
       "      <td>6</td>\n",
       "      <td>100.0</td>\n",
       "      <td>{cancel=[300, 3], busses=[200, 2], nicely=[880...</td>\n",
       "    </tr>\n",
       "    <tr>\n",
       "      <td>7</td>\n",
       "      <td>97.0</td>\n",
       "      <td>{cancel=[291, 3], busses=[485, 5], cca=[97, 1]...</td>\n",
       "    </tr>\n",
       "    <tr>\n",
       "      <td>8</td>\n",
       "      <td>67.0</td>\n",
       "      <td>{parking=[201, 3], very=[335, 5], gotten=[67, ...</td>\n",
       "    </tr>\n",
       "    <tr>\n",
       "      <td>9</td>\n",
       "      <td>70.0</td>\n",
       "      <td>{studio=[70, 1], rientrare=[70, 1], nicely=[70...</td>\n",
       "    </tr>\n",
       "    <tr>\n",
       "      <td>10</td>\n",
       "      <td>72.0</td>\n",
       "      <td>{shouldn’t=[72, 1], been=[72, 1], moderna=[72,...</td>\n",
       "    </tr>\n",
       "    <tr>\n",
       "      <td>11</td>\n",
       "      <td>85.0</td>\n",
       "      <td>{cancel=[170, 2], nicely=[255, 3], prepare=[85...</td>\n",
       "    </tr>\n",
       "    <tr>\n",
       "      <td>12</td>\n",
       "      <td>87.0</td>\n",
       "      <td>{cancel=[783, 9], cca=[174, 2], busses=[87, 1]...</td>\n",
       "    </tr>\n",
       "    <tr>\n",
       "      <td>13</td>\n",
       "      <td>40.0</td>\n",
       "      <td>{reason=[40, 1], bad=[40, 1], staying=[40, 1],...</td>\n",
       "    </tr>\n",
       "    <tr>\n",
       "      <td>14</td>\n",
       "      <td>94.0</td>\n",
       "      <td>{cancel=[376, 4], busses=[94, 1], nicely=[6204...</td>\n",
       "    </tr>\n",
       "    <tr>\n",
       "      <td>15</td>\n",
       "      <td>77.0</td>\n",
       "      <td>{temporary=[77, 1], hands=[77, 1], allowed=[77...</td>\n",
       "    </tr>\n",
       "    <tr>\n",
       "      <td>16</td>\n",
       "      <td>20.0</td>\n",
       "      <td>{voice=[20, 1], parking=[20, 1], but=[20, 1], ...</td>\n",
       "    </tr>\n",
       "    <tr>\n",
       "      <td>17</td>\n",
       "      <td>96.0</td>\n",
       "      <td>{busses=[288, 3], cca=[96, 1], cancel=[864, 9]...</td>\n",
       "    </tr>\n",
       "    <tr>\n",
       "      <td>18</td>\n",
       "      <td>83.0</td>\n",
       "      <td>{nicely=[166, 2], half=[332, 4], chips=[83, 1]...</td>\n",
       "    </tr>\n",
       "    <tr>\n",
       "      <td>19</td>\n",
       "      <td>78.0</td>\n",
       "      <td>{certaine=[78, 1], temporary=[78, 1], prepare=...</td>\n",
       "    </tr>\n",
       "    <tr>\n",
       "      <td>20</td>\n",
       "      <td>80.0</td>\n",
       "      <td>{allison=[80, 1], nicely=[240, 3], numerous=[8...</td>\n",
       "    </tr>\n",
       "    <tr>\n",
       "      <td>21</td>\n",
       "      <td>88.0</td>\n",
       "      <td>{cancel=[88, 1], encased=[88, 1], nicely=[1056...</td>\n",
       "    </tr>\n",
       "    <tr>\n",
       "      <td>22</td>\n",
       "      <td>69.0</td>\n",
       "      <td>{mostly=[138, 2], inform=[69, 1], half=[207, 3...</td>\n",
       "    </tr>\n",
       "    <tr>\n",
       "      <td>23</td>\n",
       "      <td>93.0</td>\n",
       "      <td>{cancel=[465, 5], busses=[93, 1], nicely=[3627...</td>\n",
       "    </tr>\n",
       "    <tr>\n",
       "      <td>24</td>\n",
       "      <td>95.0</td>\n",
       "      <td>{busses=[285, 3], cancel=[855, 9], nicely=[997...</td>\n",
       "    </tr>\n",
       "    <tr>\n",
       "      <td>25</td>\n",
       "      <td>81.0</td>\n",
       "      <td>{cancel=[162, 2], cassandras=[81, 1], nicely=[...</td>\n",
       "    </tr>\n",
       "    <tr>\n",
       "      <td>26</td>\n",
       "      <td>98.0</td>\n",
       "      <td>{busses=[784, 8], unavailable=[392, 4], descri...</td>\n",
       "    </tr>\n",
       "    <tr>\n",
       "      <td>27</td>\n",
       "      <td>84.0</td>\n",
       "      <td>{cancel=[84, 1], lightfilled=[84, 1], nicely=[...</td>\n",
       "    </tr>\n",
       "    <tr>\n",
       "      <td>28</td>\n",
       "      <td>79.0</td>\n",
       "      <td>{nicely=[79, 1], half=[632, 8], allowed=[79, 1...</td>\n",
       "    </tr>\n",
       "    <tr>\n",
       "      <td>29</td>\n",
       "      <td>92.0</td>\n",
       "      <td>{busses=[92, 1], cancel=[368, 4], nicely=[2576...</td>\n",
       "    </tr>\n",
       "    <tr>\n",
       "      <td>30</td>\n",
       "      <td>73.0</td>\n",
       "      <td>{tub=[73, 1], been=[73, 1], about=[73, 1], cou...</td>\n",
       "    </tr>\n",
       "    <tr>\n",
       "      <td>31</td>\n",
       "      <td>63.0</td>\n",
       "      <td>{parking=[63, 1], slightly=[63, 1], very=[252,...</td>\n",
       "    </tr>\n",
       "    <tr>\n",
       "      <td>32</td>\n",
       "      <td>60.0</td>\n",
       "      <td>{year=[60, 1], allowed=[120, 2], staying=[180,...</td>\n",
       "    </tr>\n",
       "    <tr>\n",
       "      <td>33</td>\n",
       "      <td>75.0</td>\n",
       "      <td>{been=[150, 2], half=[75, 1], bad=[75, 1], chi...</td>\n",
       "    </tr>\n",
       "    <tr>\n",
       "      <td>34</td>\n",
       "      <td>74.0</td>\n",
       "      <td>{cancel=[222, 3], desperate=[74, 1], allowed=[...</td>\n",
       "    </tr>\n",
       "  </tbody>\n",
       "</table>\n",
       "</div>"
      ],
      "text/plain": [
       "    Rating                                           longdict\n",
       "0     82.0  {cancel=[82, 1], nicely=[82, 1], half=[164, 2]...\n",
       "1     90.0  {cancel=[450, 5], nicely=[1890, 21], half=[144...\n",
       "2     86.0  {nicely=[258, 3], prepare=[86, 1], half=[172, ...\n",
       "3     91.0  {busses=[364, 4], cancel=[182, 2], nicely=[336...\n",
       "4     99.0  {cca=[99, 1], busses=[594, 6], cancel=[495, 5]...\n",
       "5     89.0  {cca=[89, 1], busses=[89, 1], cancel=[89, 1], ...\n",
       "6    100.0  {cancel=[300, 3], busses=[200, 2], nicely=[880...\n",
       "7     97.0  {cancel=[291, 3], busses=[485, 5], cca=[97, 1]...\n",
       "8     67.0  {parking=[201, 3], very=[335, 5], gotten=[67, ...\n",
       "9     70.0  {studio=[70, 1], rientrare=[70, 1], nicely=[70...\n",
       "10    72.0  {shouldn’t=[72, 1], been=[72, 1], moderna=[72,...\n",
       "11    85.0  {cancel=[170, 2], nicely=[255, 3], prepare=[85...\n",
       "12    87.0  {cancel=[783, 9], cca=[174, 2], busses=[87, 1]...\n",
       "13    40.0  {reason=[40, 1], bad=[40, 1], staying=[40, 1],...\n",
       "14    94.0  {cancel=[376, 4], busses=[94, 1], nicely=[6204...\n",
       "15    77.0  {temporary=[77, 1], hands=[77, 1], allowed=[77...\n",
       "16    20.0  {voice=[20, 1], parking=[20, 1], but=[20, 1], ...\n",
       "17    96.0  {busses=[288, 3], cca=[96, 1], cancel=[864, 9]...\n",
       "18    83.0  {nicely=[166, 2], half=[332, 4], chips=[83, 1]...\n",
       "19    78.0  {certaine=[78, 1], temporary=[78, 1], prepare=...\n",
       "20    80.0  {allison=[80, 1], nicely=[240, 3], numerous=[8...\n",
       "21    88.0  {cancel=[88, 1], encased=[88, 1], nicely=[1056...\n",
       "22    69.0  {mostly=[138, 2], inform=[69, 1], half=[207, 3...\n",
       "23    93.0  {cancel=[465, 5], busses=[93, 1], nicely=[3627...\n",
       "24    95.0  {busses=[285, 3], cancel=[855, 9], nicely=[997...\n",
       "25    81.0  {cancel=[162, 2], cassandras=[81, 1], nicely=[...\n",
       "26    98.0  {busses=[784, 8], unavailable=[392, 4], descri...\n",
       "27    84.0  {cancel=[84, 1], lightfilled=[84, 1], nicely=[...\n",
       "28    79.0  {nicely=[79, 1], half=[632, 8], allowed=[79, 1...\n",
       "29    92.0  {busses=[92, 1], cancel=[368, 4], nicely=[2576...\n",
       "30    73.0  {tub=[73, 1], been=[73, 1], about=[73, 1], cou...\n",
       "31    63.0  {parking=[63, 1], slightly=[63, 1], very=[252,...\n",
       "32    60.0  {year=[60, 1], allowed=[120, 2], staying=[180,...\n",
       "33    75.0  {been=[150, 2], half=[75, 1], bad=[75, 1], chi...\n",
       "34    74.0  {cancel=[222, 3], desperate=[74, 1], allowed=[..."
      ]
     },
     "execution_count": 65,
     "metadata": {},
     "output_type": "execute_result"
    }
   ],
   "source": [
    "summed_df = Oakland_reviews.select('comments','Rating').filter(f.col('comments').isNotNull()).withColumn('Word_list',\\\n",
    "        f.split(removePunct(f.col('comments')),' ')).drop('comments')\\\n",
    "        .groupBy('Rating').agg(f.collect_list('Word_list').alias('longlist'))\\\n",
    "        .withColumn('longdict', wordScorer(f.col('Rating'), f.col('longlist'))).drop('longlist').toPandas()\n",
    "\n",
    "summed_df"
   ]
  },
  {
   "cell_type": "code",
   "execution_count": 66,
   "metadata": {},
   "outputs": [],
   "source": [
    "def update_dict(d):\n",
    "    # This function is used to combine the developed dictionaries.\n",
    "    for key in d.keys():\n",
    "        if key not in full_dict:\n",
    "            full_dict[key] = [int(val) for val in d[key]]\n",
    "        else:\n",
    "            full_dict[key] = [int(full_dict[key][0])+int(d[key][0]), int(full_dict[key][1])+int(d[key][1])]"
   ]
  },
  {
   "cell_type": "markdown",
   "metadata": {},
   "source": [
    "The column 'longdict' was iterated though and the string representation of the dictionaries were converted to an actually functioning dictionary in python and then inputted in the function 'update_dict' which updates 'full_dict'."
   ]
  },
  {
   "cell_type": "code",
   "execution_count": 76,
   "metadata": {},
   "outputs": [],
   "source": [
    "full_dict = dict()\n",
    "\n",
    "for d in summed_df['longdict']:\n",
    "    # Remove {} and split dictionary elements.\n",
    "    d = d[1:-1].replace('], ', ']!!!')\n",
    "    d = d.split('!!!')\n",
    "    new_d = dict()\n",
    "    for element in d:\n",
    "        # Split each element into key and value pairs and add to temporary dictionary.\n",
    "        element = element.split('=')\n",
    "        element[1] = element[1][1:-1].split(', ')\n",
    "        new_d[element[0]] = list(element[1])\n",
    "    # Update the full_dict\n",
    "    update_dict(new_d)\n"
   ]
  },
  {
   "cell_type": "markdown",
   "metadata": {},
   "source": [
    "Now that a dictionary containing the summed ratings and counts for each word, we can convert the dictionary back into a sparks dataframe.\n",
    "For us the easiest way was to first convert to a pandas dataframe, which may not be incredibly efficient, but the syntax was way simpler."
   ]
  },
  {
   "cell_type": "code",
   "execution_count": 68,
   "metadata": {},
   "outputs": [],
   "source": [
    "df = spark.createDataFrame(pd.DataFrame.from_dict(full_dict, orient='index').reset_index())\\\n",
    "     .withColumnRenamed('index', 'word').withColumnRenamed('0','sum').withColumnRenamed('1','count')"
   ]
  },
  {
   "cell_type": "code",
   "execution_count": 69,
   "metadata": {},
   "outputs": [
    {
     "name": "stdout",
     "output_type": "stream",
     "text": [
      "+-----------+-------+-----+\n",
      "|       word|    sum|count|\n",
      "+-----------+-------+-----+\n",
      "|     cancel|   6718|   73|\n",
      "|     nicely| 117205| 1216|\n",
      "|       half|  53715|  564|\n",
      "|unavailable|   1097|   12|\n",
      "|   spacious| 628813| 6544|\n",
      "|   shooting|   1406|   15|\n",
      "| undergoing|   2051|   22|\n",
      "|       hall|  20707|  216|\n",
      "|     owners|  40817|  426|\n",
      "|       your| 606366| 6333|\n",
      "|   bearable|    825|    9|\n",
      "|    without| 138407| 1446|\n",
      "|        tea| 115267| 1193|\n",
      "|      would|2292306|23866|\n",
      "| culturally|    558|    6|\n",
      "|       legs|   2464|   26|\n",
      "| essentials|  32282|  337|\n",
      "|        ten|  17499|  182|\n",
      "|       pics|  10699|  112|\n",
      "|      solid|  15875|  167|\n",
      "+-----------+-------+-----+\n",
      "only showing top 20 rows\n",
      "\n"
     ]
    }
   ],
   "source": [
    "df.show()"
   ]
  },
  {
   "cell_type": "markdown",
   "metadata": {},
   "source": [
    "The final step is to compute a positivity score based on the rating sum and counts.\n",
    "We saw that only removing words with counts less than 100 still show mainly host names. A funny observation is that reviews containing the name Heidi have exclusively given ratings of 100 out of 125 reviews:"
   ]
  },
  {
   "cell_type": "code",
   "execution_count": 70,
   "metadata": {},
   "outputs": [
    {
     "name": "stdout",
     "output_type": "stream",
     "text": [
      "+--------+-----+-----+-----------------+\n",
      "|    word|  sum|count|       positivity|\n",
      "+--------+-----+-----+-----------------+\n",
      "|   heidi|12500|  125|            100.0|\n",
      "|  deanna|11196|  112|99.96428571428571|\n",
      "|   jesus|27416|  275|99.69454545454545|\n",
      "|  dorian|19481|  196|99.39285714285714|\n",
      "|   marie|38930|  392|99.31122448979592|\n",
      "|   shawn|11021|  111|99.28828828828829|\n",
      "| colette|13489|  136|99.18382352941177|\n",
      "|  gyorgy|13761|  139|             99.0|\n",
      "|     kay|15444|  156|             99.0|\n",
      "|   ralph|18414|  186|             99.0|\n",
      "| colleen|27913|  282|98.98226950354609|\n",
      "|  jordie|21182|  214|98.98130841121495|\n",
      "|  joelle|20187|  204|98.95588235294117|\n",
      "|danielle|11864|  120|98.86666666666666|\n",
      "|   diane|13737|  139| 98.8273381294964|\n",
      "|    beth|10276|  104| 98.8076923076923|\n",
      "|  dennis|29832|  302|98.78145695364239|\n",
      "|   allen|10547|  107|98.57009345794393|\n",
      "|    marc|11915|  121|98.47107438016529|\n",
      "|   johns|16149|  164|98.46951219512195|\n",
      "+--------+-----+-----+-----------------+\n",
      "only showing top 20 rows\n",
      "\n"
     ]
    }
   ],
   "source": [
    "df.filter(f.col('count') > 100).withColumn('positivity', f.col('sum')/f.col('count')).orderBy(f.desc('positivity')).show()"
   ]
  },
  {
   "cell_type": "markdown",
   "metadata": {},
   "source": [
    "To remove this type of rare words with high scores, we removed all words occuring less times than 4000."
   ]
  },
  {
   "cell_type": "code",
   "execution_count": 74,
   "metadata": {},
   "outputs": [
    {
     "name": "stdout",
     "output_type": "stream",
     "text": [
      "+---------+-------+-----+-----------------+\n",
      "|     word|    sum|count|       positivity|\n",
      "+---------+-------+-----+-----------------+\n",
      "|  cottage| 413235| 4248|97.27754237288136|\n",
      "|    hosts| 905175| 9338|96.93456843007068|\n",
      "|beautiful|1255108|12949|96.92702139161325|\n",
      "|    their| 627829| 6483|96.84235693351843|\n",
      "|   highly| 834860| 8622|96.82904198561819|\n",
      "|wonderful|1013394|10467|96.81799942676984|\n",
      "|  amazing| 787272| 8140|96.71646191646191|\n",
      "|   lovely|1005531|10397|96.71357122246802|\n",
      "|    loved| 761676| 7876| 96.7084814626714|\n",
      "|welcoming| 553084| 5729|96.54110665037528|\n",
      "|    visit| 431417| 4469|96.53546654732602|\n",
      "|     home|2004513|20768|96.51930855161787|\n",
      "|     best| 450273| 4668|96.45951156812339|\n",
      "|  perfect|1308138|13562|96.45612741483556|\n",
      "|  private| 583790| 6054|96.43045920052857|\n",
      "|amenities| 436241| 4524|96.42816091954023|\n",
      "|   studio| 411954| 4273|96.40861221624152|\n",
      "|      bay| 792427| 8220|96.40231143552312|\n",
      "|   coffee| 573447| 5949|96.39384770549673|\n",
      "|    thank| 498803| 5175|96.38705314009661|\n",
      "+---------+-------+-----+-----------------+\n",
      "only showing top 20 rows\n",
      "\n"
     ]
    }
   ],
   "source": [
    "df.filter(f.col('count') > 4000).withColumn('positivity',f.col('sum')/f.col('count')).orderBy(f.desc('positivity')).show()"
   ]
  },
  {
   "cell_type": "markdown",
   "metadata": {},
   "source": [
    "We found that the 20 words with the highest positivity score were all quite suitable words for a happy reviewer. We therefore conclude that the positivity score function works satisfactorily.\n",
    "\n",
    "Out of curiosity, we also looked at the 20 words with the lowest positivity score.\n",
    "These words did include some words one could see as slightly positive (e.g. 'good'), but we expect this might be that good somettimes is used to describe mediocre things. Also, many 'neutral' words (e.g. 'be','get','that') are listed, but such words are not trivial to remove without defining a set list of words not to include.\n",
    "A final note is that the positivity score in this case only ranges from 94-97, which is not a particularly large span. But we found that it was not extremely necessary, as we did achieve quite sensible results."
   ]
  },
  {
   "cell_type": "code",
   "execution_count": 73,
   "metadata": {},
   "outputs": [
    {
     "name": "stdout",
     "output_type": "stream",
     "text": [
      "+--------+-------+-----+-----------------+\n",
      "|    word|    sum|count|       positivity|\n",
      "+--------+-------+-----+-----------------+\n",
      "|      no| 570698| 6052| 94.2990746860542|\n",
      "|     not|1328487|14058| 94.5004268032437|\n",
      "|   other| 423669| 4476|94.65348525469169|\n",
      "|  people| 465092| 4913|94.66558111133727|\n",
      "|    good|1230955|12981|94.82744010476851|\n",
      "|     but|2071489|21828| 94.9005405900678|\n",
      "|   night| 630026| 6637|94.92632213349405|\n",
      "|    room|1600798|16820|95.17229488703924|\n",
      "|    only| 639343| 6706|95.33895019385625|\n",
      "|    that|2058699|21593|95.34103644699671|\n",
      "|   there|1978844|20752|95.35678488820355|\n",
      "|   check| 512847| 5376|95.39564732142857|\n",
      "|bathroom| 622477| 6525|95.39877394636015|\n",
      "|      be|1353847|14190|95.40852713178295|\n",
      "|     get| 880376| 9227|95.41302698601929|\n",
      "| parking| 750127| 7861|95.42386464826357|\n",
      "|  street| 561846| 5887| 95.4384236453202|\n",
      "|     one| 786397| 8231|95.54088203134492|\n",
      "|      on|1910242|19991| 95.5550997949077|\n",
      "|   which| 902898| 9448|95.56498729889924|\n",
      "+--------+-------+-----+-----------------+\n",
      "only showing top 20 rows\n",
      "\n"
     ]
    }
   ],
   "source": [
    "df.filter(f.col('count') > 4000).withColumn('positivity',f.col('sum')/f.col('count')).orderBy('positivity').show()"
   ]
  }
 ],
 "metadata": {
  "kernelspec": {
   "display_name": "Python 3",
   "language": "python",
   "name": "python3"
  },
  "language_info": {
   "codemirror_mode": {
    "name": "ipython",
    "version": 3
   },
   "file_extension": ".py",
   "mimetype": "text/x-python",
   "name": "python",
   "nbconvert_exporter": "python",
   "pygments_lexer": "ipython3",
   "version": "3.6.9"
  }
 },
 "nbformat": 4,
 "nbformat_minor": 2
}

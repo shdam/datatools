{
 "cells": [
  {
   "cell_type": "markdown",
   "metadata": {},
   "source": [
    "# Project 2: Web Traffic Analysis\n",
    "**This is the second of three mandatory projects to be handed in as part of the assessment for the course 02807 Computational Tools for Data Science at Technical University of Denmark, autumn 2019.**\n",
    "\n",
    "#### Practical info\n",
    "- **The project is to be done in groups of at most 3 students**\n",
    "- **Each group has to hand in _one_ Jupyter notebook (this notebook) with their solution**\n",
    "- **The hand-in of the notebook is due 2019-11-10, 23:59 on DTU Inside**\n",
    "\n",
    "#### Your solution\n",
    "- **Your solution should be in Python**\n",
    "- **For each question you may use as many cells for your solution as you like**\n",
    "- **You should document your solution and explain the choices you've made (for example by using multiple cells and use Markdown to assist the reader of the notebook)**\n",
    "- **You should not remove the problem statements**\n",
    "- **Your notebook should be runnable, i.e., clicking [>>] in Jupyter should generate the result that you want to be assessed**\n",
    "- **You are not expected to use machine learning to solve any of the exercises**\n",
    "- **You will be assessed according to correctness and readability of your code, choice of solution, choice of tools and libraries, and documentation of your solution**"
   ]
  },
  {
   "cell_type": "markdown",
   "metadata": {},
   "source": [
    "## Introduction\n",
    "In this project your task is to analyze a stream of log entries. A log entry consists of an [IP address](https://en.wikipedia.org/wiki/IP_address) and a [domain name](https://en.wikipedia.org/wiki/Domain_name). For example, a log line may look as follows:\n",
    "\n",
    "`192.168.0.1 somedomain.dk`\n",
    "\n",
    "One log line is the result of the event that the domain name was visited by someone having the corresponding IP address. Your task is to analyze the traffic on a number of domains. Counting the number of unique IPs seen on a domain doesn't correspond to the exact number of unique visitors, but it is a good estimate.\n",
    "\n",
    "Specifically, you should answer the following questions from the stream of log entries.\n",
    "\n",
    "- How many unique IPs are there in the stream?\n",
    "- How many unique IPs are there for each domain?\n",
    "- How many times was IP X seen on domain Y? (for some X and Y provided at run time)\n",
    "\n",
    "**The answers to these questions can be approximate!**\n",
    "\n",
    "You should also try to answer one or more of the following, more advanced, questions. The answers to these should also be approximate.\n",
    "\n",
    "- How many unique IPs are there for the domains $d_1, d_2, \\ldots$?\n",
    "- How many times was IP X seen on domains $d_1, d_2, \\ldots$?\n",
    "- What are the X most frequent IPs in the stream?\n",
    "\n",
    "You should use algorithms and data structures that you've learned about in the lectures, and you should provide your own implementations of these.\n",
    "\n",
    "Furthermore, you are expected to:\n",
    "\n",
    "- Document the accuracy of your answers when using algorithms that give approximate answers\n",
    "- Argue why you are using certain parameters for your data structures\n",
    "\n",
    "This notebook is in three parts. In the first part you are given an example of how to read from the stream (which for the purpose of this project is a remote file). In the second part you should implement the algorithms and data structures that you intend to use, and in the last part you should use these for analyzing the stream."
   ]
  },
  {
   "cell_type": "markdown",
   "metadata": {},
   "source": [
    "## Reading the stream\n",
    "The following code reads a remote file line by line. It is wrapped in a generator to make it easier to extend. You may modify this if you want to, but your solution should remain parametrized, so that your notebook can be run without having to consume the entire file."
   ]
  },
  {
   "cell_type": "code",
   "execution_count": 6,
   "metadata": {},
   "outputs": [],
   "source": [
    "from urllib.request import urlopen\n",
    "\n",
    "def stream(n):\n",
    "    i = 0\n",
    "    with urlopen('https://files.dtu.dk/fss/public/link/public/stream/read/traffic_2?linkToken=_DcyO-U3MjjuNzI-&itemName=traffic_2') as f:\n",
    "        for line in f:\n",
    "            element = line.rstrip().decode(\"utf-8\")\n",
    "            yield element\n",
    "            i += 1\n",
    "            if i == n:\n",
    "                break"
   ]
  },
  {
   "cell_type": "code",
   "execution_count": 7,
   "metadata": {},
   "outputs": [
    {
     "data": {
      "text/plain": [
       "['186.99.192.116\\tpython.org',\n",
       " '202.152.82.171\\twikipedia.org',\n",
       " '130.126.231.205\\tpython.org',\n",
       " '116.142.112.214\\tpandas.pydata.org',\n",
       " '113.124.204.127\\tpython.org',\n",
       " '143.30.183.87\\twikipedia.org',\n",
       " '138.74.228.219\\tpython.org',\n",
       " '56.120.106.87\\twikipedia.org',\n",
       " '189.119.55.225\\twikipedia.org',\n",
       " '180.110.73.101\\twikipedia.org']"
      ]
     },
     "execution_count": 7,
     "metadata": {},
     "output_type": "execute_result"
    }
   ],
   "source": [
    "STREAM_SIZE = 10\n",
    "web_traffic_stream = stream(STREAM_SIZE)\n",
    "list(web_traffic_stream)"
   ]
  },
  {
   "cell_type": "markdown",
   "metadata": {},
   "source": [
    "## Data structures"
   ]
  },
  {
   "cell_type": "code",
   "execution_count": 12,
   "metadata": {},
   "outputs": [
    {
     "name": "stdout",
     "output_type": "stream",
     "text": [
      "186.99.192.116 python.org\n",
      "202.152.82.171 wikipedia.org\n",
      "130.126.231.205 python.org\n",
      "116.142.112.214 pandas.pydata.org\n",
      "113.124.204.127 python.org\n",
      "143.30.183.87 wikipedia.org\n",
      "138.74.228.219 python.org\n",
      "56.120.106.87 wikipedia.org\n",
      "189.119.55.225 wikipedia.org\n",
      "180.110.73.101 wikipedia.org\n",
      "125.147.103.124 python.org\n",
      "89.161.15.82 wikipedia.org\n",
      "64.108.133.139 pandas.pydata.org\n",
      "87.91.133.89 pandas.pydata.org\n",
      "111.141.147.118 wikipedia.org\n",
      "97.65.99.76 wikipedia.org\n",
      "80.99.56.157 wikipedia.org\n",
      "122.86.146.117 wikipedia.org\n",
      "200.132.86.152 pandas.pydata.org\n",
      "98.200.179.72 python.org\n",
      "82.129.212.123 wikipedia.org\n",
      "118.134.162.177 python.org\n",
      "142.129.144.83 pandas.pydata.org\n",
      "20.128.105.18 wikipedia.org\n",
      "166.31.84.181 python.org\n",
      "194.77.131.184 pandas.pydata.org\n",
      "204.76.93.95 wikipedia.org\n",
      "164.82.140.88 wikipedia.org\n",
      "175.168.120.155 wikipedia.org\n",
      "147.125.63.84 wikipedia.org\n",
      "109.96.154.73 wikipedia.org\n",
      "217.77.159.138 wikipedia.org\n",
      "127.194.124.74 dtu.dk\n",
      "135.112.123.187 wikipedia.org\n",
      "183.99.127.119 wikipedia.org\n",
      "91.129.0.84 wikipedia.org\n",
      "145.91.109.142 pandas.pydata.org\n",
      "194.160.147.218 wikipedia.org\n",
      "174.80.93.208 wikipedia.org\n",
      "188.184.111.204 python.org\n",
      "118.132.34.85 python.org\n",
      "139.135.81.115 python.org\n",
      "93.159.94.107 google.com\n",
      "102.96.109.126 wikipedia.org\n",
      "58.119.72.88 python.org\n",
      "108.212.197.110 pandas.pydata.org\n",
      "73.112.136.99 python.org\n",
      "119.69.152.112 wikipedia.org\n",
      "177.107.174.173 wikipedia.org\n",
      "174.98.209.145 dtu.dk\n",
      "251.223.134.114 pandas.pydata.org\n",
      "112.178.122.82 pandas.pydata.org\n",
      "141.93.32.94 wikipedia.org\n",
      "181.223.154.91 python.org\n",
      "171.149.69.88 wikipedia.org\n",
      "115.170.85.106 pandas.pydata.org\n",
      "132.117.139.124 wikipedia.org\n",
      "100.253.180.141 wikipedia.org\n",
      "89.151.206.101 databricks.com\n",
      "155.129.93.158 wikipedia.org\n",
      "78.54.71.146 wikipedia.org\n",
      "203.85.185.49 python.org\n",
      "147.45.48.41 github.com\n",
      "47.90.98.150 dtu.dk\n",
      "69.185.128.164 python.org\n",
      "149.50.18.212 pandas.pydata.org\n",
      "161.134.127.210 python.org\n",
      "231.93.122.167 github.com\n",
      "140.53.93.159 wikipedia.org\n",
      "105.98.155.244 python.org\n",
      "110.220.151.140 python.org\n",
      "116.133.127.59 wikipedia.org\n",
      "189.104.45.129 databricks.com\n",
      "119.123.154.109 spark.apache.org\n",
      "60.58.245.83 wikipedia.org\n",
      "143.137.33.94 google.com\n",
      "149.113.115.193 wikipedia.org\n",
      "99.121.45.126 python.org\n",
      "212.168.99.114 pandas.pydata.org\n",
      "188.104.198.76 wikipedia.org\n",
      "94.121.123.151 wikipedia.org\n",
      "160.183.204.202 wikipedia.org\n",
      "244.15.83.105 pandas.pydata.org\n",
      "99.121.119.48 wikipedia.org\n",
      "117.185.138.47 wikipedia.org\n",
      "125.142.128.86 python.org\n",
      "228.115.124.87 wikipedia.org\n",
      "94.176.112.166 wikipedia.org\n",
      "194.173.153.224 wikipedia.org\n",
      "132.176.92.140 pandas.pydata.org\n",
      "152.80.74.237 wikipedia.org\n",
      "139.121.165.143 pandas.pydata.org\n",
      "134.156.98.200 github.com\n",
      "203.64.85.102 pandas.pydata.org\n",
      "155.94.107.117 wikipedia.org\n",
      "150.169.172.191 wikipedia.org\n",
      "208.114.96.119 python.org\n",
      "114.255.47.190 wikipedia.org\n",
      "175.132.133.122 python.org\n",
      "52.30.199.124 wikipedia.org\n"
     ]
    }
   ],
   "source": [
    "import murmurhash3\n",
    "\n",
    "unique_IP_count = 0\n",
    "domain_IPs = dict()\n",
    "IP_x = '186.99.192.116'\n",
    "domain_y = 'python.org'\n",
    "\n",
    "STREAM_SIZE = 100\n",
    "for element in stream(STREAM_SIZE):\n",
    "    element = element.split()\n",
    "    IP = element[0]\n",
    "    domain = element[1]\n",
    "    "
   ]
  },
  {
   "cell_type": "code",
   "execution_count": null,
   "metadata": {},
   "outputs": [],
   "source": []
  },
  {
   "cell_type": "code",
   "execution_count": null,
   "metadata": {},
   "outputs": [],
   "source": []
  },
  {
   "cell_type": "code",
   "execution_count": null,
   "metadata": {},
   "outputs": [],
   "source": []
  },
  {
   "cell_type": "markdown",
   "metadata": {},
   "source": [
    "## Analysis"
   ]
  },
  {
   "cell_type": "code",
   "execution_count": null,
   "metadata": {},
   "outputs": [],
   "source": []
  },
  {
   "cell_type": "code",
   "execution_count": null,
   "metadata": {},
   "outputs": [],
   "source": []
  },
  {
   "cell_type": "code",
   "execution_count": null,
   "metadata": {},
   "outputs": [],
   "source": []
  },
  {
   "cell_type": "code",
   "execution_count": null,
   "metadata": {},
   "outputs": [],
   "source": []
  },
  {
   "cell_type": "code",
   "execution_count": null,
   "metadata": {},
   "outputs": [],
   "source": []
  },
  {
   "cell_type": "code",
   "execution_count": null,
   "metadata": {},
   "outputs": [],
   "source": []
  }
 ],
 "metadata": {
  "kernelspec": {
   "display_name": "Python 3",
   "language": "python",
   "name": "python3"
  },
  "language_info": {
   "codemirror_mode": {
    "name": "ipython",
    "version": 3
   },
   "file_extension": ".py",
   "mimetype": "text/x-python",
   "name": "python",
   "nbconvert_exporter": "python",
   "pygments_lexer": "ipython3",
   "version": "3.6.8"
  }
 },
 "nbformat": 4,
 "nbformat_minor": 2
}
